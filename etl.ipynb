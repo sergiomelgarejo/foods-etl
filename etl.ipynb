{
 "cells": [
  {
   "cell_type": "code",
   "execution_count": 11,
   "id": "5b518785",
   "metadata": {},
   "outputs": [],
   "source": [
    "import pandas as pd\n",
    "import numpy as np\n",
    "from pathlib import Path\n",
    "import json\n",
    "import requests\n",
    "import os"
   ]
  },
  {
   "cell_type": "code",
   "execution_count": 2,
   "id": "acff99f3",
   "metadata": {},
   "outputs": [],
   "source": [
    "PATH = \"https://api.nal.usda.gov/fdc/v1/foods/search\"\n",
    "API_KEY = os.environ.get('USDA_API_KEY')\n",
    "MAX_RESULTS = 100"
   ]
  },
  {
   "cell_type": "code",
   "execution_count": 13,
   "id": "7b64c36d",
   "metadata": {},
   "outputs": [],
   "source": [
    "def get_totalpage():\n",
    "    \"\"\"\n",
    "    Returns the number of pages.\n",
    "    \"\"\"\n",
    "    try:\n",
    "        url = f\"{PATH}?apia_key={API_KEY}&pageSize={MAX_RESULTS}\"\n",
    "        r = requests.get(url)\n",
    "        r.raise_for_status()\n",
    "        return r.json()['totalPages']\n",
    "    except Exception as e:\n",
    "        raise Exception(f'Request error! {e}')"
   ]
  },
  {
   "cell_type": "code",
   "execution_count": 7,
   "id": "440b1ba8",
   "metadata": {},
   "outputs": [],
   "source": [
    "def get_foods_pp(page):\n",
    "    \"\"\"\n",
    "    Returns a list of foods per API page.\n",
    "    \"\"\"\n",
    "    try:\n",
    "        url = f\"{PATH}?api_key={API_KEY}&pageNumber={page}&pageSize={MAX_RESULTS}\"\n",
    "        r = requests.get(url)\n",
    "        r.raise_for_status()\n",
    "        data = r.json()\n",
    "        foods = data['foods']\n",
    "        return foods\n",
    "    except Exception as e:\n",
    "        raise Exception(f'Request error! {e}')"
   ]
  },
  {
   "cell_type": "code",
   "execution_count": 15,
   "id": "fdb8fb91",
   "metadata": {},
   "outputs": [],
   "source": [
    "def extract():\n",
    "    \"\"\"\n",
    "    Returns a multi-dimentional array of all foods data requested to the API.\n",
    "    \"\"\"\n",
    "    pages = get_totalpage()\n",
    "    foods_list = []\n",
    "\n",
    "    # for page in range(1, pages): !!!! uncomment in production\n",
    "    for page in range(1, 3):\n",
    "        foods = get_foods_pp(page)\n",
    "        foods_list.append(foods)\n",
    "\n",
    "    return foods_list"
   ]
  },
  {
   "cell_type": "code",
   "execution_count": null,
   "id": "c505760b",
   "metadata": {},
   "outputs": [],
   "source": [
    "def tranform_foods_list(foods):\n",
    "    \"\"\"\n",
    "    Join a sequence of foods arrays. Returns a one-dimention list.\n",
    "    \"\"\"\n",
    "    foods_ = np.array(foods)\n",
    "    return np.concatenate(foods_).tolist()"
   ]
  },
  {
   "cell_type": "markdown",
   "id": "ed901006",
   "metadata": {},
   "source": [
    "Food dimention/object"
   ]
  },
  {
   "cell_type": "code",
   "execution_count": null,
   "id": "97df57df",
   "metadata": {},
   "outputs": [],
   "source": [
    "def t_foods(food):\n",
    "    \"\"\"\n",
    "    Validates that the number of necessary fields of the Food object remains constant even if one or more fields are missing or unknown.\n",
    "    \"\"\"\n",
    "    keys = [\n",
    "        'fdcId', 'description', 'commonNames', 'foodCode', \n",
    "        'publishedDate', 'foodCategory', 'foodCategoryId'\n",
    "    ]\n",
    "\n",
    "    return {key: food.get(key, None) for key in keys}"
   ]
  },
  {
   "cell_type": "markdown",
   "id": "b4946518",
   "metadata": {},
   "source": [
    "Nutrients dimention/object"
   ]
  },
  {
   "cell_type": "code",
   "execution_count": null,
   "id": "c2af8b75",
   "metadata": {},
   "outputs": [],
   "source": [
    "def t_nutrients(food):\n",
    "    \"\"\"\n",
    "    Validates that the number of necessary fields of the Nutrient object remains constant even if one or more fields are missing or unknown.\n",
    "    \"\"\"\n",
    "    keys = [\n",
    "        'nutrientId', 'nutrientName', 'nutrientNumber', 'unitName',\n",
    "        'value', 'rank', 'indentLevel', 'foodNutrientId'\n",
    "    ]\n",
    "\n",
    "    return {key: food.get(key, None) for key in keys}"
   ]
  },
  {
   "cell_type": "code",
   "execution_count": null,
   "id": "6afd1fab",
   "metadata": {},
   "outputs": [],
   "source": [
    "def transform(data):\n",
    "    \"\"\"\n",
    "    Creates two DataFrames, one for foods object and another for the nutrients object.\n",
    "    Also it creates the relationship between the foods and nutrients objects by 'fdcId'.\n",
    "    \"\"\"\n",
    "    foods = tranform_foods_list(data)\n",
    "\n",
    "    data_foods = []\n",
    "    data_nutrients = []\n",
    "    data_foodnutrients = []\n",
    "\n",
    "    for food in foods:\n",
    "        ft = t_foods(food)\n",
    "        data_foods.append(ft)\n",
    "\n",
    "        nutrients = food['foodNutrients']\n",
    "        for nutrient in nutrients:\n",
    "            nt = t_nutrients(nutrient)\n",
    "            nt['fdcId'] = ft['fdcId']\n",
    "            data_nutrients.append(nt) \n",
    "\n",
    "        df_foodnutrients = pd.DataFrame(data=data_nutrients)\n",
    "        data_foodnutrients.append(df_foodnutrients)\n",
    "\n",
    "    df_foods = pd.DataFrame(data=data_foods)\n",
    "    df_nutrients = pd.concat(data_foodnutrients, ignore_index=True)\n",
    "\n",
    "    return df_foods, df_nutrients"
   ]
  },
  {
   "cell_type": "code",
   "execution_count": null,
   "id": "bf00de39",
   "metadata": {},
   "outputs": [],
   "source": [
    "def main():\n",
    "    data = extract()\n",
    "    processed_data = transform(data)\n",
    "    # load(processed_data)"
   ]
  },
  {
   "cell_type": "code",
   "execution_count": null,
   "id": "e8391466",
   "metadata": {},
   "outputs": [],
   "source": [
    "if __name__ == '__main__':\n",
    "    main()"
   ]
  }
 ],
 "metadata": {
  "kernelspec": {
   "display_name": "Python 3 (ipykernel)",
   "language": "python",
   "name": "python3"
  },
  "language_info": {
   "codemirror_mode": {
    "name": "ipython",
    "version": 3
   },
   "file_extension": ".py",
   "mimetype": "text/x-python",
   "name": "python",
   "nbconvert_exporter": "python",
   "pygments_lexer": "ipython3",
   "version": "3.10.7"
  },
  "vscode": {
   "interpreter": {
    "hash": "aee8b7b246df8f9039afb4144a1f6fd8d2ca17a180786b69acc140d282b71a49"
   }
  }
 },
 "nbformat": 4,
 "nbformat_minor": 5
}
